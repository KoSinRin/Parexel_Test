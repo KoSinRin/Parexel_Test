{
  "nbformat": 4,
  "nbformat_minor": 0,
  "metadata": {
    "colab": {
      "name": "solution.ipynb",
      "provenance": [],
      "collapsed_sections": [],
      "authorship_tag": "ABX9TyPHL6DVbeJ7lDaNhateg1gP"
    },
    "kernelspec": {
      "name": "python3",
      "display_name": "Python 3"
    },
    "language_info": {
      "name": "python"
    }
  },
  "cells": [
    {
      "cell_type": "markdown",
      "source": [
        "# Таблица с описательной статистикой для набора данных «Цветы ириса».\n",
        "Задание выполнялось в Jupyter Notebook.\n",
        "Я рассматривал несколько вариантов решения данного задания, но выбрал это как самое оптимальное.\n"
      ],
      "metadata": {
        "id": "QkWVT0qOSehV"
      }
    },
    {
      "cell_type": "markdown",
      "source": [
        "## Импортируем библиотеки и данные"
      ],
      "metadata": {
        "id": "Y_U0uDVspgnS"
      }
    },
    {
      "cell_type": "code",
      "execution_count": 264,
      "metadata": {
        "id": "3CRws-T_opbt"
      },
      "outputs": [],
      "source": [
        "import pandas as pd\n",
        "import numpy as np\n",
        "import matplotlib.pyplot as plt"
      ]
    },
    {
      "cell_type": "code",
      "source": [
        "iris = pd.read_csv('iris_data.csv', header=None)"
      ],
      "metadata": {
        "id": "5l-v0059o0Ja"
      },
      "execution_count": 265,
      "outputs": []
    },
    {
      "cell_type": "markdown",
      "source": [
        "## Оценим и отредактируем данные\n"
      ],
      "metadata": {
        "id": "B6v5RV22p4ON"
      }
    },
    {
      "cell_type": "markdown",
      "source": [
        ""
      ],
      "metadata": {
        "id": "WWL95QBFD0Tt"
      }
    },
    {
      "cell_type": "code",
      "source": [
        "iris"
      ],
      "metadata": {
        "colab": {
          "base_uri": "https://localhost:8080/",
          "height": 424
        },
        "id": "Rd1qTG3Eo0kr",
        "outputId": "f700b7b4-6ec9-4f5b-da6b-d5d6a541d32e"
      },
      "execution_count": 266,
      "outputs": [
        {
          "output_type": "execute_result",
          "data": {
            "text/html": [
              "\n",
              "  <div id=\"df-f23a6fc2-0f0d-4623-a3da-ffbace38104b\">\n",
              "    <div class=\"colab-df-container\">\n",
              "      <div>\n",
              "<style scoped>\n",
              "    .dataframe tbody tr th:only-of-type {\n",
              "        vertical-align: middle;\n",
              "    }\n",
              "\n",
              "    .dataframe tbody tr th {\n",
              "        vertical-align: top;\n",
              "    }\n",
              "\n",
              "    .dataframe thead th {\n",
              "        text-align: right;\n",
              "    }\n",
              "</style>\n",
              "<table border=\"1\" class=\"dataframe\">\n",
              "  <thead>\n",
              "    <tr style=\"text-align: right;\">\n",
              "      <th></th>\n",
              "      <th>0</th>\n",
              "      <th>1</th>\n",
              "      <th>2</th>\n",
              "      <th>3</th>\n",
              "      <th>4</th>\n",
              "    </tr>\n",
              "  </thead>\n",
              "  <tbody>\n",
              "    <tr>\n",
              "      <th>0</th>\n",
              "      <td>5.1</td>\n",
              "      <td>3.5</td>\n",
              "      <td>1.4</td>\n",
              "      <td>0.2</td>\n",
              "      <td>Iris-setosa</td>\n",
              "    </tr>\n",
              "    <tr>\n",
              "      <th>1</th>\n",
              "      <td>4.9</td>\n",
              "      <td>3.0</td>\n",
              "      <td>1.4</td>\n",
              "      <td>0.2</td>\n",
              "      <td>Iris-setosa</td>\n",
              "    </tr>\n",
              "    <tr>\n",
              "      <th>2</th>\n",
              "      <td>4.7</td>\n",
              "      <td>3.2</td>\n",
              "      <td>1.3</td>\n",
              "      <td>0.2</td>\n",
              "      <td>Iris-setosa</td>\n",
              "    </tr>\n",
              "    <tr>\n",
              "      <th>3</th>\n",
              "      <td>4.6</td>\n",
              "      <td>3.1</td>\n",
              "      <td>1.5</td>\n",
              "      <td>0.2</td>\n",
              "      <td>Iris-setosa</td>\n",
              "    </tr>\n",
              "    <tr>\n",
              "      <th>4</th>\n",
              "      <td>5.0</td>\n",
              "      <td>3.6</td>\n",
              "      <td>1.4</td>\n",
              "      <td>0.2</td>\n",
              "      <td>Iris-setosa</td>\n",
              "    </tr>\n",
              "    <tr>\n",
              "      <th>...</th>\n",
              "      <td>...</td>\n",
              "      <td>...</td>\n",
              "      <td>...</td>\n",
              "      <td>...</td>\n",
              "      <td>...</td>\n",
              "    </tr>\n",
              "    <tr>\n",
              "      <th>145</th>\n",
              "      <td>6.7</td>\n",
              "      <td>3.0</td>\n",
              "      <td>5.2</td>\n",
              "      <td>2.3</td>\n",
              "      <td>Iris-virginica</td>\n",
              "    </tr>\n",
              "    <tr>\n",
              "      <th>146</th>\n",
              "      <td>6.3</td>\n",
              "      <td>2.5</td>\n",
              "      <td>5.0</td>\n",
              "      <td>1.9</td>\n",
              "      <td>Iris-virginica</td>\n",
              "    </tr>\n",
              "    <tr>\n",
              "      <th>147</th>\n",
              "      <td>6.5</td>\n",
              "      <td>3.0</td>\n",
              "      <td>5.2</td>\n",
              "      <td>2.0</td>\n",
              "      <td>Iris-virginica</td>\n",
              "    </tr>\n",
              "    <tr>\n",
              "      <th>148</th>\n",
              "      <td>6.2</td>\n",
              "      <td>3.4</td>\n",
              "      <td>5.4</td>\n",
              "      <td>2.3</td>\n",
              "      <td>Iris-virginica</td>\n",
              "    </tr>\n",
              "    <tr>\n",
              "      <th>149</th>\n",
              "      <td>5.9</td>\n",
              "      <td>3.0</td>\n",
              "      <td>5.1</td>\n",
              "      <td>1.8</td>\n",
              "      <td>Iris-virginica</td>\n",
              "    </tr>\n",
              "  </tbody>\n",
              "</table>\n",
              "<p>150 rows × 5 columns</p>\n",
              "</div>\n",
              "      <button class=\"colab-df-convert\" onclick=\"convertToInteractive('df-f23a6fc2-0f0d-4623-a3da-ffbace38104b')\"\n",
              "              title=\"Convert this dataframe to an interactive table.\"\n",
              "              style=\"display:none;\">\n",
              "        \n",
              "  <svg xmlns=\"http://www.w3.org/2000/svg\" height=\"24px\"viewBox=\"0 0 24 24\"\n",
              "       width=\"24px\">\n",
              "    <path d=\"M0 0h24v24H0V0z\" fill=\"none\"/>\n",
              "    <path d=\"M18.56 5.44l.94 2.06.94-2.06 2.06-.94-2.06-.94-.94-2.06-.94 2.06-2.06.94zm-11 1L8.5 8.5l.94-2.06 2.06-.94-2.06-.94L8.5 2.5l-.94 2.06-2.06.94zm10 10l.94 2.06.94-2.06 2.06-.94-2.06-.94-.94-2.06-.94 2.06-2.06.94z\"/><path d=\"M17.41 7.96l-1.37-1.37c-.4-.4-.92-.59-1.43-.59-.52 0-1.04.2-1.43.59L10.3 9.45l-7.72 7.72c-.78.78-.78 2.05 0 2.83L4 21.41c.39.39.9.59 1.41.59.51 0 1.02-.2 1.41-.59l7.78-7.78 2.81-2.81c.8-.78.8-2.07 0-2.86zM5.41 20L4 18.59l7.72-7.72 1.47 1.35L5.41 20z\"/>\n",
              "  </svg>\n",
              "      </button>\n",
              "      \n",
              "  <style>\n",
              "    .colab-df-container {\n",
              "      display:flex;\n",
              "      flex-wrap:wrap;\n",
              "      gap: 12px;\n",
              "    }\n",
              "\n",
              "    .colab-df-convert {\n",
              "      background-color: #E8F0FE;\n",
              "      border: none;\n",
              "      border-radius: 50%;\n",
              "      cursor: pointer;\n",
              "      display: none;\n",
              "      fill: #1967D2;\n",
              "      height: 32px;\n",
              "      padding: 0 0 0 0;\n",
              "      width: 32px;\n",
              "    }\n",
              "\n",
              "    .colab-df-convert:hover {\n",
              "      background-color: #E2EBFA;\n",
              "      box-shadow: 0px 1px 2px rgba(60, 64, 67, 0.3), 0px 1px 3px 1px rgba(60, 64, 67, 0.15);\n",
              "      fill: #174EA6;\n",
              "    }\n",
              "\n",
              "    [theme=dark] .colab-df-convert {\n",
              "      background-color: #3B4455;\n",
              "      fill: #D2E3FC;\n",
              "    }\n",
              "\n",
              "    [theme=dark] .colab-df-convert:hover {\n",
              "      background-color: #434B5C;\n",
              "      box-shadow: 0px 1px 3px 1px rgba(0, 0, 0, 0.15);\n",
              "      filter: drop-shadow(0px 1px 2px rgba(0, 0, 0, 0.3));\n",
              "      fill: #FFFFFF;\n",
              "    }\n",
              "  </style>\n",
              "\n",
              "      <script>\n",
              "        const buttonEl =\n",
              "          document.querySelector('#df-f23a6fc2-0f0d-4623-a3da-ffbace38104b button.colab-df-convert');\n",
              "        buttonEl.style.display =\n",
              "          google.colab.kernel.accessAllowed ? 'block' : 'none';\n",
              "\n",
              "        async function convertToInteractive(key) {\n",
              "          const element = document.querySelector('#df-f23a6fc2-0f0d-4623-a3da-ffbace38104b');\n",
              "          const dataTable =\n",
              "            await google.colab.kernel.invokeFunction('convertToInteractive',\n",
              "                                                     [key], {});\n",
              "          if (!dataTable) return;\n",
              "\n",
              "          const docLinkHtml = 'Like what you see? Visit the ' +\n",
              "            '<a target=\"_blank\" href=https://colab.research.google.com/notebooks/data_table.ipynb>data table notebook</a>'\n",
              "            + ' to learn more about interactive tables.';\n",
              "          element.innerHTML = '';\n",
              "          dataTable['output_type'] = 'display_data';\n",
              "          await google.colab.output.renderOutput(dataTable, element);\n",
              "          const docLink = document.createElement('div');\n",
              "          docLink.innerHTML = docLinkHtml;\n",
              "          element.appendChild(docLink);\n",
              "        }\n",
              "      </script>\n",
              "    </div>\n",
              "  </div>\n",
              "  "
            ],
            "text/plain": [
              "       0    1    2    3               4\n",
              "0    5.1  3.5  1.4  0.2     Iris-setosa\n",
              "1    4.9  3.0  1.4  0.2     Iris-setosa\n",
              "2    4.7  3.2  1.3  0.2     Iris-setosa\n",
              "3    4.6  3.1  1.5  0.2     Iris-setosa\n",
              "4    5.0  3.6  1.4  0.2     Iris-setosa\n",
              "..   ...  ...  ...  ...             ...\n",
              "145  6.7  3.0  5.2  2.3  Iris-virginica\n",
              "146  6.3  2.5  5.0  1.9  Iris-virginica\n",
              "147  6.5  3.0  5.2  2.0  Iris-virginica\n",
              "148  6.2  3.4  5.4  2.3  Iris-virginica\n",
              "149  5.9  3.0  5.1  1.8  Iris-virginica\n",
              "\n",
              "[150 rows x 5 columns]"
            ]
          },
          "metadata": {},
          "execution_count": 266
        }
      ]
    },
    {
      "cell_type": "markdown",
      "source": [
        "Введём имена для столбцов таблицы, обозначив информацию и класс"
      ],
      "metadata": {
        "id": "vTVMxveVy8FH"
      }
    },
    {
      "cell_type": "code",
      "source": [
        "iris.columns=[\"sepal length\", \"sepal width\", \"petal length\", \"petal width\", \"class\"]\n",
        "iris.head()"
      ],
      "metadata": {
        "colab": {
          "base_uri": "https://localhost:8080/",
          "height": 206
        },
        "id": "fGe5Oh2Ay60a",
        "outputId": "5bda330b-8241-4c38-eabb-01cfa08d3a4b"
      },
      "execution_count": 267,
      "outputs": [
        {
          "output_type": "execute_result",
          "data": {
            "text/html": [
              "\n",
              "  <div id=\"df-cdc3b8b6-f822-4d4d-8dd6-eac661efe333\">\n",
              "    <div class=\"colab-df-container\">\n",
              "      <div>\n",
              "<style scoped>\n",
              "    .dataframe tbody tr th:only-of-type {\n",
              "        vertical-align: middle;\n",
              "    }\n",
              "\n",
              "    .dataframe tbody tr th {\n",
              "        vertical-align: top;\n",
              "    }\n",
              "\n",
              "    .dataframe thead th {\n",
              "        text-align: right;\n",
              "    }\n",
              "</style>\n",
              "<table border=\"1\" class=\"dataframe\">\n",
              "  <thead>\n",
              "    <tr style=\"text-align: right;\">\n",
              "      <th></th>\n",
              "      <th>sepal length</th>\n",
              "      <th>sepal width</th>\n",
              "      <th>petal length</th>\n",
              "      <th>petal width</th>\n",
              "      <th>class</th>\n",
              "    </tr>\n",
              "  </thead>\n",
              "  <tbody>\n",
              "    <tr>\n",
              "      <th>0</th>\n",
              "      <td>5.1</td>\n",
              "      <td>3.5</td>\n",
              "      <td>1.4</td>\n",
              "      <td>0.2</td>\n",
              "      <td>Iris-setosa</td>\n",
              "    </tr>\n",
              "    <tr>\n",
              "      <th>1</th>\n",
              "      <td>4.9</td>\n",
              "      <td>3.0</td>\n",
              "      <td>1.4</td>\n",
              "      <td>0.2</td>\n",
              "      <td>Iris-setosa</td>\n",
              "    </tr>\n",
              "    <tr>\n",
              "      <th>2</th>\n",
              "      <td>4.7</td>\n",
              "      <td>3.2</td>\n",
              "      <td>1.3</td>\n",
              "      <td>0.2</td>\n",
              "      <td>Iris-setosa</td>\n",
              "    </tr>\n",
              "    <tr>\n",
              "      <th>3</th>\n",
              "      <td>4.6</td>\n",
              "      <td>3.1</td>\n",
              "      <td>1.5</td>\n",
              "      <td>0.2</td>\n",
              "      <td>Iris-setosa</td>\n",
              "    </tr>\n",
              "    <tr>\n",
              "      <th>4</th>\n",
              "      <td>5.0</td>\n",
              "      <td>3.6</td>\n",
              "      <td>1.4</td>\n",
              "      <td>0.2</td>\n",
              "      <td>Iris-setosa</td>\n",
              "    </tr>\n",
              "  </tbody>\n",
              "</table>\n",
              "</div>\n",
              "      <button class=\"colab-df-convert\" onclick=\"convertToInteractive('df-cdc3b8b6-f822-4d4d-8dd6-eac661efe333')\"\n",
              "              title=\"Convert this dataframe to an interactive table.\"\n",
              "              style=\"display:none;\">\n",
              "        \n",
              "  <svg xmlns=\"http://www.w3.org/2000/svg\" height=\"24px\"viewBox=\"0 0 24 24\"\n",
              "       width=\"24px\">\n",
              "    <path d=\"M0 0h24v24H0V0z\" fill=\"none\"/>\n",
              "    <path d=\"M18.56 5.44l.94 2.06.94-2.06 2.06-.94-2.06-.94-.94-2.06-.94 2.06-2.06.94zm-11 1L8.5 8.5l.94-2.06 2.06-.94-2.06-.94L8.5 2.5l-.94 2.06-2.06.94zm10 10l.94 2.06.94-2.06 2.06-.94-2.06-.94-.94-2.06-.94 2.06-2.06.94z\"/><path d=\"M17.41 7.96l-1.37-1.37c-.4-.4-.92-.59-1.43-.59-.52 0-1.04.2-1.43.59L10.3 9.45l-7.72 7.72c-.78.78-.78 2.05 0 2.83L4 21.41c.39.39.9.59 1.41.59.51 0 1.02-.2 1.41-.59l7.78-7.78 2.81-2.81c.8-.78.8-2.07 0-2.86zM5.41 20L4 18.59l7.72-7.72 1.47 1.35L5.41 20z\"/>\n",
              "  </svg>\n",
              "      </button>\n",
              "      \n",
              "  <style>\n",
              "    .colab-df-container {\n",
              "      display:flex;\n",
              "      flex-wrap:wrap;\n",
              "      gap: 12px;\n",
              "    }\n",
              "\n",
              "    .colab-df-convert {\n",
              "      background-color: #E8F0FE;\n",
              "      border: none;\n",
              "      border-radius: 50%;\n",
              "      cursor: pointer;\n",
              "      display: none;\n",
              "      fill: #1967D2;\n",
              "      height: 32px;\n",
              "      padding: 0 0 0 0;\n",
              "      width: 32px;\n",
              "    }\n",
              "\n",
              "    .colab-df-convert:hover {\n",
              "      background-color: #E2EBFA;\n",
              "      box-shadow: 0px 1px 2px rgba(60, 64, 67, 0.3), 0px 1px 3px 1px rgba(60, 64, 67, 0.15);\n",
              "      fill: #174EA6;\n",
              "    }\n",
              "\n",
              "    [theme=dark] .colab-df-convert {\n",
              "      background-color: #3B4455;\n",
              "      fill: #D2E3FC;\n",
              "    }\n",
              "\n",
              "    [theme=dark] .colab-df-convert:hover {\n",
              "      background-color: #434B5C;\n",
              "      box-shadow: 0px 1px 3px 1px rgba(0, 0, 0, 0.15);\n",
              "      filter: drop-shadow(0px 1px 2px rgba(0, 0, 0, 0.3));\n",
              "      fill: #FFFFFF;\n",
              "    }\n",
              "  </style>\n",
              "\n",
              "      <script>\n",
              "        const buttonEl =\n",
              "          document.querySelector('#df-cdc3b8b6-f822-4d4d-8dd6-eac661efe333 button.colab-df-convert');\n",
              "        buttonEl.style.display =\n",
              "          google.colab.kernel.accessAllowed ? 'block' : 'none';\n",
              "\n",
              "        async function convertToInteractive(key) {\n",
              "          const element = document.querySelector('#df-cdc3b8b6-f822-4d4d-8dd6-eac661efe333');\n",
              "          const dataTable =\n",
              "            await google.colab.kernel.invokeFunction('convertToInteractive',\n",
              "                                                     [key], {});\n",
              "          if (!dataTable) return;\n",
              "\n",
              "          const docLinkHtml = 'Like what you see? Visit the ' +\n",
              "            '<a target=\"_blank\" href=https://colab.research.google.com/notebooks/data_table.ipynb>data table notebook</a>'\n",
              "            + ' to learn more about interactive tables.';\n",
              "          element.innerHTML = '';\n",
              "          dataTable['output_type'] = 'display_data';\n",
              "          await google.colab.output.renderOutput(dataTable, element);\n",
              "          const docLink = document.createElement('div');\n",
              "          docLink.innerHTML = docLinkHtml;\n",
              "          element.appendChild(docLink);\n",
              "        }\n",
              "      </script>\n",
              "    </div>\n",
              "  </div>\n",
              "  "
            ],
            "text/plain": [
              "   sepal length  sepal width  petal length  petal width        class\n",
              "0           5.1          3.5           1.4          0.2  Iris-setosa\n",
              "1           4.9          3.0           1.4          0.2  Iris-setosa\n",
              "2           4.7          3.2           1.3          0.2  Iris-setosa\n",
              "3           4.6          3.1           1.5          0.2  Iris-setosa\n",
              "4           5.0          3.6           1.4          0.2  Iris-setosa"
            ]
          },
          "metadata": {},
          "execution_count": 267
        }
      ]
    },
    {
      "cell_type": "markdown",
      "source": [
        "В описании к файлу указано, что пропуски отсутствуют, но стоит это проверить.\n",
        "\n",
        "Посмотрим общее инфо по датасету"
      ],
      "metadata": {
        "id": "jubRabWa268n"
      }
    },
    {
      "cell_type": "code",
      "source": [
        "display(iris.isnull().sum())\n",
        "display(iris.info())"
      ],
      "metadata": {
        "colab": {
          "base_uri": "https://localhost:8080/",
          "height": 347
        },
        "id": "kxI99t0Fo0qU",
        "outputId": "99ef9569-f8c2-4e81-9b2d-aee4c2ea622b"
      },
      "execution_count": 268,
      "outputs": [
        {
          "output_type": "display_data",
          "data": {
            "text/plain": [
              "sepal length    0\n",
              "sepal width     0\n",
              "petal length    0\n",
              "petal width     0\n",
              "class           0\n",
              "dtype: int64"
            ]
          },
          "metadata": {}
        },
        {
          "output_type": "stream",
          "name": "stdout",
          "text": [
            "<class 'pandas.core.frame.DataFrame'>\n",
            "RangeIndex: 150 entries, 0 to 149\n",
            "Data columns (total 5 columns):\n",
            " #   Column        Non-Null Count  Dtype  \n",
            "---  ------        --------------  -----  \n",
            " 0   sepal length  150 non-null    float64\n",
            " 1   sepal width   150 non-null    float64\n",
            " 2   petal length  150 non-null    float64\n",
            " 3   petal width   150 non-null    float64\n",
            " 4   class         150 non-null    object \n",
            "dtypes: float64(4), object(1)\n",
            "memory usage: 6.0+ KB\n"
          ]
        },
        {
          "output_type": "display_data",
          "data": {
            "text/plain": [
              "None"
            ]
          },
          "metadata": {}
        }
      ]
    },
    {
      "cell_type": "markdown",
      "source": [
        "## Анализ данных"
      ],
      "metadata": {
        "id": "-5tW2DxZ5v2W"
      }
    },
    {
      "cell_type": "markdown",
      "source": [
        "Посчитаем количество объектов в данных"
      ],
      "metadata": {
        "id": "UvlTG5NpMu6-"
      }
    },
    {
      "cell_type": "code",
      "source": [
        "def ObjectsInDF(Name):\n",
        "    return [\"N = \" + str(len(Name))]"
      ],
      "metadata": {
        "id": "IxiNyPbtMuPf"
      },
      "execution_count": 269,
      "outputs": []
    },
    {
      "cell_type": "markdown",
      "source": [
        "Получим данные по классу \n",
        "\n",
        "Используя loc(), мы можем получить доступ к значениям данных, помещенным в конкретную строку или столбец, на основе значения индекса, переданного функции."
      ],
      "metadata": {
        "id": "pS1-9_PFC-9L"
      }
    },
    {
      "cell_type": "code",
      "source": [
        "def DataByClasses(Name, Column, ClassType):\n",
        "    return Name.loc[Name[Column] == ClassType]"
      ],
      "metadata": {
        "id": "ukJaHnZA4OI4"
      },
      "execution_count": 270,
      "outputs": []
    },
    {
      "cell_type": "markdown",
      "source": [
        "Получим значения для набора данных по выбранному столбцу.\n",
        "\n",
        "Значения округляются до 1 знака после точки"
      ],
      "metadata": {
        "id": "JvLtUa-DPL_M"
      }
    },
    {
      "cell_type": "code",
      "source": [
        "def SpecificColumn(Name, Column):\n",
        "    ds = []\n",
        "    ds.append(Name[Column].count())\n",
        "    ds.append(round(Name[Column].mean(), 1))\n",
        "    ds.append(round(Name[Column].min(), 1))\n",
        "    ds.append(round(Name[Column].median(), 1))\n",
        "    ds.append(round(Name[Column].max(), 1))\n",
        "    ds.append(round(Name[Column].std(), 1))\n",
        "    return ds"
      ],
      "metadata": {
        "id": "Y_OANfcC9sjK"
      },
      "execution_count": 271,
      "outputs": []
    },
    {
      "cell_type": "markdown",
      "source": [
        "Получим количество объектов с требуемыми значениями длины и ширины"
      ],
      "metadata": {
        "id": "I1jQR0McRgc9"
      }
    },
    {
      "cell_type": "code",
      "source": [
        "def Lenght(Name, Column):\n",
        "    totalNumber = Name[Column].count()\n",
        "    ds = [\n",
        "    str((Name[Column] < 5).sum()) + \" (\" + str(round(float((Name[Column] < 5).sum())/totalNumber, 3) * 100) + \")\",\n",
        "    str(((Name[Column] >= 5) & (Name[Column] < 6)).sum()) + \" (\" + str(round(float((((Name[Column] >= 5) & (Name[Column] < 6)).sum()))/totalNumber, 3) * 100) + \")\",\n",
        "    str(((Name[Column] >= 6) & (Name[Column] < 7)).sum()) + \" (\" + str(round(float(((Name[Column] >= 6) & (Name[Column] < 7)).sum())/totalNumber, 3) * 100) + \")\",\n",
        "    str((Name[Column] >= 7).sum()) + \" (\" + str(round(float((Name[Column] >= 7).sum())/totalNumber, 3) * 100) + \")\"]\n",
        "    return ds\n",
        "  \n",
        "def Width(Name, Column):\n",
        "    totalNumber = Name[Column].count()\n",
        "    ds = [\n",
        "    str((Name[Column] < 3).sum()) +  \" (\" + str(round(float((Name[Column] < 3).sum())/totalNumber, 3) * 100) + \")\",\n",
        "    str(((Name[Column] >= 3) & (Name[Column] < 3.5)).sum()) + \" (\" + str(round(float(((Name[Column] >= 3) & (Name[Column] < 3.5)).sum())/totalNumber, 3) * 100) + \")\",\n",
        "    str(((Name[Column] >= 3.5) & (Name[Column] < 4)).sum()) + \" (\" + str(round(float(((Name[Column] >= 3.5) & (Name[Column] < 4)).sum())/totalNumber, 3) * 100) + \")\"]\n",
        "    return ds"
      ],
      "metadata": {
        "id": "AX6Q2OrR9snF"
      },
      "execution_count": 272,
      "outputs": []
    },
    {
      "cell_type": "markdown",
      "source": [
        "Выведем информацию по ирисам согласно данным\n"
      ],
      "metadata": {
        "id": "SED0X_XCVjXn"
      }
    },
    {
      "cell_type": "code",
      "source": [
        "def Main(IrisType):\n",
        "    SumInfo = ObjectsInDF(IrisType)\n",
        "    SepalWidth = SpecificColumn(IrisType, 'sepal width')\n",
        "    SepalWidthInfo = Width(IrisType, 'sepal width')\n",
        "    SepalLength = SpecificColumn(IrisType, 'sepal length')\n",
        "    SepalLengthInfo = Lenght(IrisType, 'sepal length')\n",
        "    return SumInfo + [''] + SepalLength + [''] + SepalLengthInfo + [''] + SepalWidth + [''] + SepalWidthInfo\n"
      ],
      "metadata": {
        "id": "xoFo4w569suL"
      },
      "execution_count": 273,
      "outputs": []
    },
    {
      "cell_type": "markdown",
      "source": [
        "Создадим набор данных с информацией по каждому из классов ирисов"
      ],
      "metadata": {
        "id": "ARlwRZH5aGEK"
      }
    },
    {
      "cell_type": "code",
      "source": [
        "CompleteData = iris\n",
        "Total = Main(CompleteData)\n",
        "SetosaInfo = DataByClasses(iris, 'class', 'Iris-setosa')\n",
        "Setosa = Main(SetosaInfo)\n",
        "VersicolorInfo = DataByClasses(iris, 'class', 'Iris-versicolor')\n",
        "Versicolor = Main(VersicolorInfo)\n",
        "VirginicaInfo = DataByClasses(iris, 'class', 'Iris-virginica')\n",
        "Virginica = Main(VirginicaInfo)"
      ],
      "metadata": {
        "id": "mZztt3dt9sxh"
      },
      "execution_count": 274,
      "outputs": []
    },
    {
      "cell_type": "markdown",
      "source": [
        "## Новая таблица"
      ],
      "metadata": {
        "id": "V0VPIotchYhL"
      }
    },
    {
      "cell_type": "markdown",
      "source": [
        "Объединим данные"
      ],
      "metadata": {
        "id": "YQwUBcrp8Qm-"
      }
    },
    {
      "cell_type": "code",
      "source": [
        "iris_new = {'Iris-Setosa': Setosa, 'Iris-Versicolor': Versicolor, 'Iris-Virginica': Virginica, 'Total': Total}"
      ],
      "metadata": {
        "id": "HVTVcBQ6zLCP"
      },
      "execution_count": 275,
      "outputs": []
    },
    {
      "cell_type": "code",
      "source": [
        "iris_full = pd.DataFrame(data = iris_new)"
      ],
      "metadata": {
        "id": "gBb0pV4e3u5Z"
      },
      "execution_count": 276,
      "outputs": []
    },
    {
      "cell_type": "code",
      "source": [
        "iris_full.head()"
      ],
      "metadata": {
        "colab": {
          "base_uri": "https://localhost:8080/",
          "height": 206
        },
        "id": "v30gK3_Y-Hgh",
        "outputId": "95455c9b-8c3f-4824-aa96-6c403d7413b8"
      },
      "execution_count": 277,
      "outputs": [
        {
          "output_type": "execute_result",
          "data": {
            "text/html": [
              "\n",
              "  <div id=\"df-02b396c2-6822-4bc9-ac05-1b751f97dc28\">\n",
              "    <div class=\"colab-df-container\">\n",
              "      <div>\n",
              "<style scoped>\n",
              "    .dataframe tbody tr th:only-of-type {\n",
              "        vertical-align: middle;\n",
              "    }\n",
              "\n",
              "    .dataframe tbody tr th {\n",
              "        vertical-align: top;\n",
              "    }\n",
              "\n",
              "    .dataframe thead th {\n",
              "        text-align: right;\n",
              "    }\n",
              "</style>\n",
              "<table border=\"1\" class=\"dataframe\">\n",
              "  <thead>\n",
              "    <tr style=\"text-align: right;\">\n",
              "      <th></th>\n",
              "      <th>Iris-Setosa</th>\n",
              "      <th>Iris-Versicolor</th>\n",
              "      <th>Iris-Virginica</th>\n",
              "      <th>Total</th>\n",
              "    </tr>\n",
              "  </thead>\n",
              "  <tbody>\n",
              "    <tr>\n",
              "      <th>0</th>\n",
              "      <td>N = 50</td>\n",
              "      <td>N = 50</td>\n",
              "      <td>N = 50</td>\n",
              "      <td>N = 150</td>\n",
              "    </tr>\n",
              "    <tr>\n",
              "      <th>1</th>\n",
              "      <td></td>\n",
              "      <td></td>\n",
              "      <td></td>\n",
              "      <td></td>\n",
              "    </tr>\n",
              "    <tr>\n",
              "      <th>2</th>\n",
              "      <td>50</td>\n",
              "      <td>50</td>\n",
              "      <td>50</td>\n",
              "      <td>150</td>\n",
              "    </tr>\n",
              "    <tr>\n",
              "      <th>3</th>\n",
              "      <td>5</td>\n",
              "      <td>5.9</td>\n",
              "      <td>6.6</td>\n",
              "      <td>5.8</td>\n",
              "    </tr>\n",
              "    <tr>\n",
              "      <th>4</th>\n",
              "      <td>4.3</td>\n",
              "      <td>4.9</td>\n",
              "      <td>4.9</td>\n",
              "      <td>4.3</td>\n",
              "    </tr>\n",
              "  </tbody>\n",
              "</table>\n",
              "</div>\n",
              "      <button class=\"colab-df-convert\" onclick=\"convertToInteractive('df-02b396c2-6822-4bc9-ac05-1b751f97dc28')\"\n",
              "              title=\"Convert this dataframe to an interactive table.\"\n",
              "              style=\"display:none;\">\n",
              "        \n",
              "  <svg xmlns=\"http://www.w3.org/2000/svg\" height=\"24px\"viewBox=\"0 0 24 24\"\n",
              "       width=\"24px\">\n",
              "    <path d=\"M0 0h24v24H0V0z\" fill=\"none\"/>\n",
              "    <path d=\"M18.56 5.44l.94 2.06.94-2.06 2.06-.94-2.06-.94-.94-2.06-.94 2.06-2.06.94zm-11 1L8.5 8.5l.94-2.06 2.06-.94-2.06-.94L8.5 2.5l-.94 2.06-2.06.94zm10 10l.94 2.06.94-2.06 2.06-.94-2.06-.94-.94-2.06-.94 2.06-2.06.94z\"/><path d=\"M17.41 7.96l-1.37-1.37c-.4-.4-.92-.59-1.43-.59-.52 0-1.04.2-1.43.59L10.3 9.45l-7.72 7.72c-.78.78-.78 2.05 0 2.83L4 21.41c.39.39.9.59 1.41.59.51 0 1.02-.2 1.41-.59l7.78-7.78 2.81-2.81c.8-.78.8-2.07 0-2.86zM5.41 20L4 18.59l7.72-7.72 1.47 1.35L5.41 20z\"/>\n",
              "  </svg>\n",
              "      </button>\n",
              "      \n",
              "  <style>\n",
              "    .colab-df-container {\n",
              "      display:flex;\n",
              "      flex-wrap:wrap;\n",
              "      gap: 12px;\n",
              "    }\n",
              "\n",
              "    .colab-df-convert {\n",
              "      background-color: #E8F0FE;\n",
              "      border: none;\n",
              "      border-radius: 50%;\n",
              "      cursor: pointer;\n",
              "      display: none;\n",
              "      fill: #1967D2;\n",
              "      height: 32px;\n",
              "      padding: 0 0 0 0;\n",
              "      width: 32px;\n",
              "    }\n",
              "\n",
              "    .colab-df-convert:hover {\n",
              "      background-color: #E2EBFA;\n",
              "      box-shadow: 0px 1px 2px rgba(60, 64, 67, 0.3), 0px 1px 3px 1px rgba(60, 64, 67, 0.15);\n",
              "      fill: #174EA6;\n",
              "    }\n",
              "\n",
              "    [theme=dark] .colab-df-convert {\n",
              "      background-color: #3B4455;\n",
              "      fill: #D2E3FC;\n",
              "    }\n",
              "\n",
              "    [theme=dark] .colab-df-convert:hover {\n",
              "      background-color: #434B5C;\n",
              "      box-shadow: 0px 1px 3px 1px rgba(0, 0, 0, 0.15);\n",
              "      filter: drop-shadow(0px 1px 2px rgba(0, 0, 0, 0.3));\n",
              "      fill: #FFFFFF;\n",
              "    }\n",
              "  </style>\n",
              "\n",
              "      <script>\n",
              "        const buttonEl =\n",
              "          document.querySelector('#df-02b396c2-6822-4bc9-ac05-1b751f97dc28 button.colab-df-convert');\n",
              "        buttonEl.style.display =\n",
              "          google.colab.kernel.accessAllowed ? 'block' : 'none';\n",
              "\n",
              "        async function convertToInteractive(key) {\n",
              "          const element = document.querySelector('#df-02b396c2-6822-4bc9-ac05-1b751f97dc28');\n",
              "          const dataTable =\n",
              "            await google.colab.kernel.invokeFunction('convertToInteractive',\n",
              "                                                     [key], {});\n",
              "          if (!dataTable) return;\n",
              "\n",
              "          const docLinkHtml = 'Like what you see? Visit the ' +\n",
              "            '<a target=\"_blank\" href=https://colab.research.google.com/notebooks/data_table.ipynb>data table notebook</a>'\n",
              "            + ' to learn more about interactive tables.';\n",
              "          element.innerHTML = '';\n",
              "          dataTable['output_type'] = 'display_data';\n",
              "          await google.colab.output.renderOutput(dataTable, element);\n",
              "          const docLink = document.createElement('div');\n",
              "          docLink.innerHTML = docLinkHtml;\n",
              "          element.appendChild(docLink);\n",
              "        }\n",
              "      </script>\n",
              "    </div>\n",
              "  </div>\n",
              "  "
            ],
            "text/plain": [
              "  Iris-Setosa Iris-Versicolor Iris-Virginica    Total\n",
              "0      N = 50          N = 50         N = 50  N = 150\n",
              "1                                                    \n",
              "2          50              50             50      150\n",
              "3           5             5.9            6.6      5.8\n",
              "4         4.3             4.9            4.9      4.3"
            ]
          },
          "metadata": {},
          "execution_count": 277
        }
      ]
    },
    {
      "cell_type": "markdown",
      "source": [
        "Изменим индексы таблицы и столбцы под требуемый формат"
      ],
      "metadata": {
        "id": "v0IMXOi99syi"
      }
    },
    {
      "cell_type": "code",
      "source": [
        "iris_full = iris_full.rename(index={0: '', 1: 'SEPAL LENGTH [CM]',\n",
        "                      2: 'N', 3: 'MEAN',\n",
        "                      4: 'MIN', 5: 'MEDIAN',\n",
        "                      6: 'MAX', 7: 'STANDARD DEVIATION',\n",
        "                      8: 'SEPAL LENGTH (%)', 9: '< 5',\n",
        "                      10: '>= 5 AND < 6', 11: '>= 6 AND < 7',\n",
        "                      12: '>= 7', 13: 'SEPAL WIDTH [CM]',\n",
        "                      14: 'N', 15: 'MEAN',\n",
        "                      16: 'MIN', 17: 'MEDIAN',\n",
        "                      18: 'MAX', 19: 'STANDARD DEVIATION',\n",
        "                      20: 'SEPAL WIDTH (%)', 21: '< 3',\n",
        "                      22: '>= 3 AND < 3.5', 23: '>= 3.5 AND < 4'})\n",
        "\n",
        "iris_full = iris_full.rename(columns = {'Iris-Setosa' : 'Iris Setosa', \n",
        "                                        'Iris-Versicolor' : 'Iris Versicolor', \n",
        "                                        'Iris-Virginica' : 'Iris Virginica'})"
      ],
      "metadata": {
        "id": "RI-iHJWxqrX6"
      },
      "execution_count": 278,
      "outputs": []
    },
    {
      "cell_type": "markdown",
      "source": [
        "Оценим полученный результат"
      ],
      "metadata": {
        "id": "CjfdLaJ4ASSs"
      }
    },
    {
      "cell_type": "code",
      "source": [
        "iris_full"
      ],
      "metadata": {
        "colab": {
          "base_uri": "https://localhost:8080/",
          "height": 802
        },
        "id": "rtQk4TUp-IMf",
        "outputId": "102475eb-3055-420f-e446-37d49e2c3c90"
      },
      "execution_count": 279,
      "outputs": [
        {
          "output_type": "execute_result",
          "data": {
            "text/html": [
              "\n",
              "  <div id=\"df-c1694954-f165-4292-b067-c9ff1b9dc6be\">\n",
              "    <div class=\"colab-df-container\">\n",
              "      <div>\n",
              "<style scoped>\n",
              "    .dataframe tbody tr th:only-of-type {\n",
              "        vertical-align: middle;\n",
              "    }\n",
              "\n",
              "    .dataframe tbody tr th {\n",
              "        vertical-align: top;\n",
              "    }\n",
              "\n",
              "    .dataframe thead th {\n",
              "        text-align: right;\n",
              "    }\n",
              "</style>\n",
              "<table border=\"1\" class=\"dataframe\">\n",
              "  <thead>\n",
              "    <tr style=\"text-align: right;\">\n",
              "      <th></th>\n",
              "      <th>Iris Setosa</th>\n",
              "      <th>Iris Versicolor</th>\n",
              "      <th>Iris Virginica</th>\n",
              "      <th>Total</th>\n",
              "    </tr>\n",
              "  </thead>\n",
              "  <tbody>\n",
              "    <tr>\n",
              "      <th></th>\n",
              "      <td>N = 50</td>\n",
              "      <td>N = 50</td>\n",
              "      <td>N = 50</td>\n",
              "      <td>N = 150</td>\n",
              "    </tr>\n",
              "    <tr>\n",
              "      <th>SEPAL LENGTH [CM]</th>\n",
              "      <td></td>\n",
              "      <td></td>\n",
              "      <td></td>\n",
              "      <td></td>\n",
              "    </tr>\n",
              "    <tr>\n",
              "      <th>N</th>\n",
              "      <td>50</td>\n",
              "      <td>50</td>\n",
              "      <td>50</td>\n",
              "      <td>150</td>\n",
              "    </tr>\n",
              "    <tr>\n",
              "      <th>MEAN</th>\n",
              "      <td>5</td>\n",
              "      <td>5.9</td>\n",
              "      <td>6.6</td>\n",
              "      <td>5.8</td>\n",
              "    </tr>\n",
              "    <tr>\n",
              "      <th>MIN</th>\n",
              "      <td>4.3</td>\n",
              "      <td>4.9</td>\n",
              "      <td>4.9</td>\n",
              "      <td>4.3</td>\n",
              "    </tr>\n",
              "    <tr>\n",
              "      <th>MEDIAN</th>\n",
              "      <td>5</td>\n",
              "      <td>5.9</td>\n",
              "      <td>6.5</td>\n",
              "      <td>5.8</td>\n",
              "    </tr>\n",
              "    <tr>\n",
              "      <th>MAX</th>\n",
              "      <td>5.8</td>\n",
              "      <td>7</td>\n",
              "      <td>7.9</td>\n",
              "      <td>7.9</td>\n",
              "    </tr>\n",
              "    <tr>\n",
              "      <th>STANDARD DEVIATION</th>\n",
              "      <td>0.4</td>\n",
              "      <td>0.5</td>\n",
              "      <td>0.6</td>\n",
              "      <td>0.8</td>\n",
              "    </tr>\n",
              "    <tr>\n",
              "      <th>SEPAL LENGTH (%)</th>\n",
              "      <td></td>\n",
              "      <td></td>\n",
              "      <td></td>\n",
              "      <td></td>\n",
              "    </tr>\n",
              "    <tr>\n",
              "      <th>&lt; 5</th>\n",
              "      <td>20 (40.0)</td>\n",
              "      <td>1 (2.0)</td>\n",
              "      <td>1 (2.0)</td>\n",
              "      <td>22 (14.7)</td>\n",
              "    </tr>\n",
              "    <tr>\n",
              "      <th>&gt;= 5 AND &lt; 6</th>\n",
              "      <td>30 (60.0)</td>\n",
              "      <td>25 (50.0)</td>\n",
              "      <td>6 (12.0)</td>\n",
              "      <td>61 (40.699999999999996)</td>\n",
              "    </tr>\n",
              "    <tr>\n",
              "      <th>&gt;= 6 AND &lt; 7</th>\n",
              "      <td>0 (0.0)</td>\n",
              "      <td>23 (46.0)</td>\n",
              "      <td>31 (62.0)</td>\n",
              "      <td>54 (36.0)</td>\n",
              "    </tr>\n",
              "    <tr>\n",
              "      <th>&gt;= 7</th>\n",
              "      <td>0 (0.0)</td>\n",
              "      <td>1 (2.0)</td>\n",
              "      <td>12 (24.0)</td>\n",
              "      <td>13 (8.7)</td>\n",
              "    </tr>\n",
              "    <tr>\n",
              "      <th>SEPAL WIDTH [CM]</th>\n",
              "      <td></td>\n",
              "      <td></td>\n",
              "      <td></td>\n",
              "      <td></td>\n",
              "    </tr>\n",
              "    <tr>\n",
              "      <th>N</th>\n",
              "      <td>50</td>\n",
              "      <td>50</td>\n",
              "      <td>50</td>\n",
              "      <td>150</td>\n",
              "    </tr>\n",
              "    <tr>\n",
              "      <th>MEAN</th>\n",
              "      <td>3.4</td>\n",
              "      <td>2.8</td>\n",
              "      <td>3</td>\n",
              "      <td>3.1</td>\n",
              "    </tr>\n",
              "    <tr>\n",
              "      <th>MIN</th>\n",
              "      <td>2.3</td>\n",
              "      <td>2</td>\n",
              "      <td>2.2</td>\n",
              "      <td>2</td>\n",
              "    </tr>\n",
              "    <tr>\n",
              "      <th>MEDIAN</th>\n",
              "      <td>3.4</td>\n",
              "      <td>2.8</td>\n",
              "      <td>3</td>\n",
              "      <td>3</td>\n",
              "    </tr>\n",
              "    <tr>\n",
              "      <th>MAX</th>\n",
              "      <td>4.4</td>\n",
              "      <td>3.4</td>\n",
              "      <td>3.8</td>\n",
              "      <td>4.4</td>\n",
              "    </tr>\n",
              "    <tr>\n",
              "      <th>STANDARD DEVIATION</th>\n",
              "      <td>0.4</td>\n",
              "      <td>0.3</td>\n",
              "      <td>0.3</td>\n",
              "      <td>0.4</td>\n",
              "    </tr>\n",
              "    <tr>\n",
              "      <th>SEPAL WIDTH (%)</th>\n",
              "      <td></td>\n",
              "      <td></td>\n",
              "      <td></td>\n",
              "      <td></td>\n",
              "    </tr>\n",
              "    <tr>\n",
              "      <th>&lt; 3</th>\n",
              "      <td>2 (4.0)</td>\n",
              "      <td>34 (68.0)</td>\n",
              "      <td>21 (42.0)</td>\n",
              "      <td>57 (38.0)</td>\n",
              "    </tr>\n",
              "    <tr>\n",
              "      <th>&gt;= 3 AND &lt; 3.5</th>\n",
              "      <td>27 (54.0)</td>\n",
              "      <td>16 (32.0)</td>\n",
              "      <td>26 (52.0)</td>\n",
              "      <td>69 (46.0)</td>\n",
              "    </tr>\n",
              "    <tr>\n",
              "      <th>&gt;= 3.5 AND &lt; 4</th>\n",
              "      <td>17 (34.0)</td>\n",
              "      <td>0 (0.0)</td>\n",
              "      <td>3 (6.0)</td>\n",
              "      <td>20 (13.3)</td>\n",
              "    </tr>\n",
              "  </tbody>\n",
              "</table>\n",
              "</div>\n",
              "      <button class=\"colab-df-convert\" onclick=\"convertToInteractive('df-c1694954-f165-4292-b067-c9ff1b9dc6be')\"\n",
              "              title=\"Convert this dataframe to an interactive table.\"\n",
              "              style=\"display:none;\">\n",
              "        \n",
              "  <svg xmlns=\"http://www.w3.org/2000/svg\" height=\"24px\"viewBox=\"0 0 24 24\"\n",
              "       width=\"24px\">\n",
              "    <path d=\"M0 0h24v24H0V0z\" fill=\"none\"/>\n",
              "    <path d=\"M18.56 5.44l.94 2.06.94-2.06 2.06-.94-2.06-.94-.94-2.06-.94 2.06-2.06.94zm-11 1L8.5 8.5l.94-2.06 2.06-.94-2.06-.94L8.5 2.5l-.94 2.06-2.06.94zm10 10l.94 2.06.94-2.06 2.06-.94-2.06-.94-.94-2.06-.94 2.06-2.06.94z\"/><path d=\"M17.41 7.96l-1.37-1.37c-.4-.4-.92-.59-1.43-.59-.52 0-1.04.2-1.43.59L10.3 9.45l-7.72 7.72c-.78.78-.78 2.05 0 2.83L4 21.41c.39.39.9.59 1.41.59.51 0 1.02-.2 1.41-.59l7.78-7.78 2.81-2.81c.8-.78.8-2.07 0-2.86zM5.41 20L4 18.59l7.72-7.72 1.47 1.35L5.41 20z\"/>\n",
              "  </svg>\n",
              "      </button>\n",
              "      \n",
              "  <style>\n",
              "    .colab-df-container {\n",
              "      display:flex;\n",
              "      flex-wrap:wrap;\n",
              "      gap: 12px;\n",
              "    }\n",
              "\n",
              "    .colab-df-convert {\n",
              "      background-color: #E8F0FE;\n",
              "      border: none;\n",
              "      border-radius: 50%;\n",
              "      cursor: pointer;\n",
              "      display: none;\n",
              "      fill: #1967D2;\n",
              "      height: 32px;\n",
              "      padding: 0 0 0 0;\n",
              "      width: 32px;\n",
              "    }\n",
              "\n",
              "    .colab-df-convert:hover {\n",
              "      background-color: #E2EBFA;\n",
              "      box-shadow: 0px 1px 2px rgba(60, 64, 67, 0.3), 0px 1px 3px 1px rgba(60, 64, 67, 0.15);\n",
              "      fill: #174EA6;\n",
              "    }\n",
              "\n",
              "    [theme=dark] .colab-df-convert {\n",
              "      background-color: #3B4455;\n",
              "      fill: #D2E3FC;\n",
              "    }\n",
              "\n",
              "    [theme=dark] .colab-df-convert:hover {\n",
              "      background-color: #434B5C;\n",
              "      box-shadow: 0px 1px 3px 1px rgba(0, 0, 0, 0.15);\n",
              "      filter: drop-shadow(0px 1px 2px rgba(0, 0, 0, 0.3));\n",
              "      fill: #FFFFFF;\n",
              "    }\n",
              "  </style>\n",
              "\n",
              "      <script>\n",
              "        const buttonEl =\n",
              "          document.querySelector('#df-c1694954-f165-4292-b067-c9ff1b9dc6be button.colab-df-convert');\n",
              "        buttonEl.style.display =\n",
              "          google.colab.kernel.accessAllowed ? 'block' : 'none';\n",
              "\n",
              "        async function convertToInteractive(key) {\n",
              "          const element = document.querySelector('#df-c1694954-f165-4292-b067-c9ff1b9dc6be');\n",
              "          const dataTable =\n",
              "            await google.colab.kernel.invokeFunction('convertToInteractive',\n",
              "                                                     [key], {});\n",
              "          if (!dataTable) return;\n",
              "\n",
              "          const docLinkHtml = 'Like what you see? Visit the ' +\n",
              "            '<a target=\"_blank\" href=https://colab.research.google.com/notebooks/data_table.ipynb>data table notebook</a>'\n",
              "            + ' to learn more about interactive tables.';\n",
              "          element.innerHTML = '';\n",
              "          dataTable['output_type'] = 'display_data';\n",
              "          await google.colab.output.renderOutput(dataTable, element);\n",
              "          const docLink = document.createElement('div');\n",
              "          docLink.innerHTML = docLinkHtml;\n",
              "          element.appendChild(docLink);\n",
              "        }\n",
              "      </script>\n",
              "    </div>\n",
              "  </div>\n",
              "  "
            ],
            "text/plain": [
              "                   Iris Setosa  ...                    Total\n",
              "                        N = 50  ...                  N = 150\n",
              "SEPAL LENGTH [CM]               ...                         \n",
              "N                           50  ...                      150\n",
              "MEAN                         5  ...                      5.8\n",
              "MIN                        4.3  ...                      4.3\n",
              "MEDIAN                       5  ...                      5.8\n",
              "MAX                        5.8  ...                      7.9\n",
              "STANDARD DEVIATION         0.4  ...                      0.8\n",
              "SEPAL LENGTH (%)                ...                         \n",
              "< 5                  20 (40.0)  ...                22 (14.7)\n",
              ">= 5 AND < 6         30 (60.0)  ...  61 (40.699999999999996)\n",
              ">= 6 AND < 7           0 (0.0)  ...                54 (36.0)\n",
              ">= 7                   0 (0.0)  ...                 13 (8.7)\n",
              "SEPAL WIDTH [CM]                ...                         \n",
              "N                           50  ...                      150\n",
              "MEAN                       3.4  ...                      3.1\n",
              "MIN                        2.3  ...                        2\n",
              "MEDIAN                     3.4  ...                        3\n",
              "MAX                        4.4  ...                      4.4\n",
              "STANDARD DEVIATION         0.4  ...                      0.4\n",
              "SEPAL WIDTH (%)                 ...                         \n",
              "< 3                    2 (4.0)  ...                57 (38.0)\n",
              ">= 3 AND < 3.5       27 (54.0)  ...                69 (46.0)\n",
              ">= 3.5 AND < 4       17 (34.0)  ...                20 (13.3)\n",
              "\n",
              "[24 rows x 4 columns]"
            ]
          },
          "metadata": {},
          "execution_count": 279
        }
      ]
    },
    {
      "cell_type": "markdown",
      "source": [
        "Сохраним таблицу как iris-flowers.txt"
      ],
      "metadata": {
        "id": "cndAGHF6A9ob"
      }
    },
    {
      "cell_type": "code",
      "source": [
        "iris_full.to_csv('iris-flowers.txt', sep='\\t')"
      ],
      "metadata": {
        "id": "milRMakb-QCv"
      },
      "execution_count": 280,
      "outputs": []
    },
    {
      "cell_type": "code",
      "source": [
        ""
      ],
      "metadata": {
        "id": "z37cx1DNDjp4"
      },
      "execution_count": 280,
      "outputs": []
    }
  ]
}